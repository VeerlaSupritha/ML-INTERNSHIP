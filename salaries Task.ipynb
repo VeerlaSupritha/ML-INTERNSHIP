{
 "cells": [
  {
   "cell_type": "markdown",
   "metadata": {},
   "source": [
    "# Salaries Exercise - \n",
    "\n",
    "Welcome to a quick exercise for you to practice your pandas skills! Just follow along and complete the tasks outlined in bold below. The tasks will get harder and harder as you go along."
   ]
  },
  {
   "cell_type": "markdown",
   "metadata": {},
   "source": [
    "** Import pandas as pd.**"
   ]
  },
  {
   "cell_type": "code",
   "execution_count": 1,
   "metadata": {},
   "outputs": [],
   "source": [
    "import pandas as pd ;"
   ]
  },
  {
   "cell_type": "markdown",
   "metadata": {},
   "source": [
    "** Read Salaries.csv as a dataframe called sal.**"
   ]
  },
  {
   "cell_type": "code",
   "execution_count": 2,
   "metadata": {},
   "outputs": [],
   "source": [
    "sal = pd.read_csv(r'C:\\Users\\Supritha\\OneDrive\\Desktop\\salaries\\Salaries.csv')"
   ]
  },
  {
   "cell_type": "markdown",
   "metadata": {},
   "source": [
    "** Check the head of the DataFrame. **"
   ]
  },
  {
   "cell_type": "code",
   "execution_count": 3,
   "metadata": {},
   "outputs": [
    {
     "data": {
      "text/html": [
       "<div>\n",
       "<style scoped>\n",
       "    .dataframe tbody tr th:only-of-type {\n",
       "        vertical-align: middle;\n",
       "    }\n",
       "\n",
       "    .dataframe tbody tr th {\n",
       "        vertical-align: top;\n",
       "    }\n",
       "\n",
       "    .dataframe thead th {\n",
       "        text-align: right;\n",
       "    }\n",
       "</style>\n",
       "<table border=\"1\" class=\"dataframe\">\n",
       "  <thead>\n",
       "    <tr style=\"text-align: right;\">\n",
       "      <th></th>\n",
       "      <th>Id</th>\n",
       "      <th>EmployeeName</th>\n",
       "      <th>JobTitle</th>\n",
       "      <th>BasePay</th>\n",
       "      <th>OvertimePay</th>\n",
       "      <th>OtherPay</th>\n",
       "      <th>Benefits</th>\n",
       "      <th>TotalPay</th>\n",
       "      <th>TotalPayBenefits</th>\n",
       "      <th>Year</th>\n",
       "      <th>Notes</th>\n",
       "      <th>Agency</th>\n",
       "      <th>Status</th>\n",
       "    </tr>\n",
       "  </thead>\n",
       "  <tbody>\n",
       "    <tr>\n",
       "      <th>0</th>\n",
       "      <td>1</td>\n",
       "      <td>NATHANIEL FORD</td>\n",
       "      <td>GENERAL MANAGER-METROPOLITAN TRANSIT AUTHORITY</td>\n",
       "      <td>167411.18</td>\n",
       "      <td>0.00</td>\n",
       "      <td>400184.25</td>\n",
       "      <td>NaN</td>\n",
       "      <td>567595.43</td>\n",
       "      <td>567595.43</td>\n",
       "      <td>2011</td>\n",
       "      <td>NaN</td>\n",
       "      <td>San Francisco</td>\n",
       "      <td>NaN</td>\n",
       "    </tr>\n",
       "    <tr>\n",
       "      <th>1</th>\n",
       "      <td>2</td>\n",
       "      <td>GARY JIMENEZ</td>\n",
       "      <td>CAPTAIN III (POLICE DEPARTMENT)</td>\n",
       "      <td>155966.02</td>\n",
       "      <td>245131.88</td>\n",
       "      <td>137811.38</td>\n",
       "      <td>NaN</td>\n",
       "      <td>538909.28</td>\n",
       "      <td>538909.28</td>\n",
       "      <td>2011</td>\n",
       "      <td>NaN</td>\n",
       "      <td>San Francisco</td>\n",
       "      <td>NaN</td>\n",
       "    </tr>\n",
       "    <tr>\n",
       "      <th>2</th>\n",
       "      <td>3</td>\n",
       "      <td>ALBERT PARDINI</td>\n",
       "      <td>CAPTAIN III (POLICE DEPARTMENT)</td>\n",
       "      <td>212739.13</td>\n",
       "      <td>106088.18</td>\n",
       "      <td>16452.60</td>\n",
       "      <td>NaN</td>\n",
       "      <td>335279.91</td>\n",
       "      <td>335279.91</td>\n",
       "      <td>2011</td>\n",
       "      <td>NaN</td>\n",
       "      <td>San Francisco</td>\n",
       "      <td>NaN</td>\n",
       "    </tr>\n",
       "    <tr>\n",
       "      <th>3</th>\n",
       "      <td>4</td>\n",
       "      <td>CHRISTOPHER CHONG</td>\n",
       "      <td>WIRE ROPE CABLE MAINTENANCE MECHANIC</td>\n",
       "      <td>77916.00</td>\n",
       "      <td>56120.71</td>\n",
       "      <td>198306.90</td>\n",
       "      <td>NaN</td>\n",
       "      <td>332343.61</td>\n",
       "      <td>332343.61</td>\n",
       "      <td>2011</td>\n",
       "      <td>NaN</td>\n",
       "      <td>San Francisco</td>\n",
       "      <td>NaN</td>\n",
       "    </tr>\n",
       "    <tr>\n",
       "      <th>4</th>\n",
       "      <td>5</td>\n",
       "      <td>PATRICK GARDNER</td>\n",
       "      <td>DEPUTY CHIEF OF DEPARTMENT,(FIRE DEPARTMENT)</td>\n",
       "      <td>134401.60</td>\n",
       "      <td>9737.00</td>\n",
       "      <td>182234.59</td>\n",
       "      <td>NaN</td>\n",
       "      <td>326373.19</td>\n",
       "      <td>326373.19</td>\n",
       "      <td>2011</td>\n",
       "      <td>NaN</td>\n",
       "      <td>San Francisco</td>\n",
       "      <td>NaN</td>\n",
       "    </tr>\n",
       "  </tbody>\n",
       "</table>\n",
       "</div>"
      ],
      "text/plain": [
       "   Id       EmployeeName                                        JobTitle  \\\n",
       "0   1     NATHANIEL FORD  GENERAL MANAGER-METROPOLITAN TRANSIT AUTHORITY   \n",
       "1   2       GARY JIMENEZ                 CAPTAIN III (POLICE DEPARTMENT)   \n",
       "2   3     ALBERT PARDINI                 CAPTAIN III (POLICE DEPARTMENT)   \n",
       "3   4  CHRISTOPHER CHONG            WIRE ROPE CABLE MAINTENANCE MECHANIC   \n",
       "4   5    PATRICK GARDNER    DEPUTY CHIEF OF DEPARTMENT,(FIRE DEPARTMENT)   \n",
       "\n",
       "     BasePay  OvertimePay   OtherPay  Benefits   TotalPay  TotalPayBenefits  \\\n",
       "0  167411.18         0.00  400184.25       NaN  567595.43         567595.43   \n",
       "1  155966.02    245131.88  137811.38       NaN  538909.28         538909.28   \n",
       "2  212739.13    106088.18   16452.60       NaN  335279.91         335279.91   \n",
       "3   77916.00     56120.71  198306.90       NaN  332343.61         332343.61   \n",
       "4  134401.60      9737.00  182234.59       NaN  326373.19         326373.19   \n",
       "\n",
       "   Year  Notes         Agency  Status  \n",
       "0  2011    NaN  San Francisco     NaN  \n",
       "1  2011    NaN  San Francisco     NaN  \n",
       "2  2011    NaN  San Francisco     NaN  \n",
       "3  2011    NaN  San Francisco     NaN  \n",
       "4  2011    NaN  San Francisco     NaN  "
      ]
     },
     "execution_count": 3,
     "metadata": {},
     "output_type": "execute_result"
    }
   ],
   "source": [
    "sal.head()"
   ]
  },
  {
   "cell_type": "markdown",
   "metadata": {},
   "source": [
    "** Use the .info() method to find out how many entries there are.**"
   ]
  },
  {
   "cell_type": "code",
   "execution_count": 4,
   "metadata": {},
   "outputs": [
    {
     "name": "stdout",
     "output_type": "stream",
     "text": [
      "<class 'pandas.core.frame.DataFrame'>\n",
      "RangeIndex: 148654 entries, 0 to 148653\n",
      "Data columns (total 13 columns):\n",
      " #   Column            Non-Null Count   Dtype  \n",
      "---  ------            --------------   -----  \n",
      " 0   Id                148654 non-null  int64  \n",
      " 1   EmployeeName      148654 non-null  object \n",
      " 2   JobTitle          148654 non-null  object \n",
      " 3   BasePay           148045 non-null  float64\n",
      " 4   OvertimePay       148650 non-null  float64\n",
      " 5   OtherPay          148650 non-null  float64\n",
      " 6   Benefits          112491 non-null  float64\n",
      " 7   TotalPay          148654 non-null  float64\n",
      " 8   TotalPayBenefits  148654 non-null  float64\n",
      " 9   Year              148654 non-null  int64  \n",
      " 10  Notes             0 non-null       float64\n",
      " 11  Agency            148654 non-null  object \n",
      " 12  Status            0 non-null       float64\n",
      "dtypes: float64(8), int64(2), object(3)\n",
      "memory usage: 14.7+ MB\n"
     ]
    }
   ],
   "source": [
    "sal.info()"
   ]
  },
  {
   "cell_type": "markdown",
   "metadata": {},
   "source": [
    "**What is the average BasePay ?**"
   ]
  },
  {
   "cell_type": "code",
   "execution_count": 5,
   "metadata": {},
   "outputs": [
    {
     "name": "stdout",
     "output_type": "stream",
     "text": [
      "average_basepay : 66325.4488404877\n"
     ]
    }
   ],
   "source": [
    "average_basepay = sal['BasePay'].mean()\n",
    "print(\"average_basepay :\",average_basepay)"
   ]
  },
  {
   "cell_type": "markdown",
   "metadata": {},
   "source": [
    "** What is the highest amount of OvertimePay in the dataset ? **"
   ]
  },
  {
   "cell_type": "code",
   "execution_count": 6,
   "metadata": {},
   "outputs": [
    {
     "data": {
      "text/plain": [
       "EmployeeName        NATHANIEL FORD\n",
       "TotalPayBenefits         567595.43\n",
       "Name: 0, dtype: object"
      ]
     },
     "execution_count": 6,
     "metadata": {},
     "output_type": "execute_result"
    }
   ],
   "source": [
    "highest_paid = sal.loc[sal['TotalPayBenefits'].idxmax()]\n",
    "highest_paid[['EmployeeName', 'TotalPayBenefits']]"
   ]
  },
  {
   "cell_type": "markdown",
   "metadata": {},
   "source": [
    "** What is the job title of  JOSEPH DRISCOLL ? Note: Use all caps, otherwise you may get an answer that doesn't match up (there is also a lowercase Joseph Driscoll). **"
   ]
  },
  {
   "cell_type": "code",
   "execution_count": 8,
   "metadata": {},
   "outputs": [
    {
     "data": {
      "text/plain": [
       "24    CAPTAIN, FIRE SUPPRESSION\n",
       "Name: JobTitle, dtype: object"
      ]
     },
     "execution_count": 8,
     "metadata": {},
     "output_type": "execute_result"
    }
   ],
   "source": [
    "job_title_joseph_driscoll = sal[sal['EmployeeName'] == 'JOSEPH DRISCOLL']['JobTitle']\n",
    "job_title_joseph_driscoll"
   ]
  },
  {
   "cell_type": "markdown",
   "metadata": {},
   "source": [
    "** How much does JOSEPH DRISCOLL make (including benefits)? **"
   ]
  },
  {
   "cell_type": "code",
   "execution_count": 11,
   "metadata": {},
   "outputs": [
    {
     "name": "stdout",
     "output_type": "stream",
     "text": [
      "JOSEPH DISCROLL PAY : 270324.91\n"
     ]
    }
   ],
   "source": [
    "\n",
    "joseph_driscoll_pay = sal[sal['EmployeeName'] == 'JOSEPH DRISCOLL']['TotalPayBenefits'].values[0]\n",
    "print(f\"JOSEPH DISCROLL PAY : {joseph_driscoll_pay}\")\n"
   ]
  },
  {
   "cell_type": "markdown",
   "metadata": {},
   "source": [
    "** What is the name of highest paid person (including benefits)?**"
   ]
  },
  {
   "cell_type": "code",
   "execution_count": 12,
   "metadata": {},
   "outputs": [
    {
     "name": "stdout",
     "output_type": "stream",
     "text": [
      "The highest-paid person is NATHANIEL FORD with a total pay of 567595.43.\n"
     ]
    }
   ],
   "source": [
    "highest_paid_person = sal.loc[sal['TotalPayBenefits'].idxmax()]\n",
    "print(f\"The highest-paid person is {highest_paid_person['EmployeeName']} with a total pay of {highest_paid_person['TotalPayBenefits']}.\")"
   ]
  },
  {
   "cell_type": "markdown",
   "metadata": {},
   "source": [
    "** What is the name of lowest paid person (including benefits)? Do you notice something strange about how much he or she is paid?**"
   ]
  },
  {
   "cell_type": "code",
   "execution_count": 16,
   "metadata": {},
   "outputs": [
    {
     "name": "stdout",
     "output_type": "stream",
     "text": [
      "The lowest-paid person is Joe Lopez with a total pay of -618.13.\n",
      "YEAH HIS SALARY WAS IN NEGATIVE VALUE WHICH MAY BE RAISED DUE TO DATAENTRY ERROR IN THE DATASET OR MAYBE OTHER REASONS\n"
     ]
    }
   ],
   "source": [
    "lowest_paid_person = sal.loc[sal['TotalPayBenefits'].idxmin()]\n",
    "print(f\"The lowest-paid person is {lowest_paid_person['EmployeeName']} with a total pay of {lowest_paid_person['TotalPayBenefits']}.\")\n",
    "print(\"YEAH HIS SALARY WAS IN NEGATIVE VALUE WHICH MAY BE RAISED DUE TO DATAENTRY ERROR IN THE DATASET OR MAYBE OTHER REASONS\")"
   ]
  },
  {
   "cell_type": "markdown",
   "metadata": {},
   "source": [
    "** What was the average (mean) BasePay of all employees per year? (2011-2014) ? **"
   ]
  },
  {
   "cell_type": "code",
   "execution_count": 17,
   "metadata": {},
   "outputs": [
    {
     "data": {
      "text/plain": [
       "Year\n",
       "2011    63595.956517\n",
       "2012    65436.406857\n",
       "2013    69630.030216\n",
       "2014    66564.421924\n",
       "Name: BasePay, dtype: float64"
      ]
     },
     "execution_count": 17,
     "metadata": {},
     "output_type": "execute_result"
    }
   ],
   "source": [
    "average_basepay_per_year = sal.groupby('Year')['BasePay'].mean()\n",
    "average_basepay_per_year.loc[2011:2014]"
   ]
  },
  {
   "cell_type": "markdown",
   "metadata": {},
   "source": [
    "** How many unique job titles are there? **"
   ]
  },
  {
   "cell_type": "code",
   "execution_count": 24,
   "metadata": {},
   "outputs": [
    {
     "name": "stdout",
     "output_type": "stream",
     "text": [
      "The total number of unique job titles are:2159\n"
     ]
    }
   ],
   "source": [
    "unique_job_titles = sal['JobTitle'].nunique()\n",
    "print(f\"The total number of unique job titles are:{unique_job_titles}\")"
   ]
  },
  {
   "cell_type": "markdown",
   "metadata": {},
   "source": [
    "** What are the top 5 most common jobs? **"
   ]
  },
  {
   "cell_type": "code",
   "execution_count": 30,
   "metadata": {},
   "outputs": [
    {
     "data": {
      "text/plain": [
       "JobTitle\n",
       "Transit Operator                7036\n",
       "Special Nurse                   4389\n",
       "Registered Nurse                3736\n",
       "Public Svc Aide-Public Works    2518\n",
       "Police Officer 3                2421\n",
       "Name: count, dtype: int64"
      ]
     },
     "execution_count": 30,
     "metadata": {},
     "output_type": "execute_result"
    }
   ],
   "source": [
    "top_5_jobs = sal['JobTitle'].value_counts().head(5)\n",
    "top_5_jobs"
   ]
  },
  {
   "cell_type": "markdown",
   "metadata": {},
   "source": [
    "** How many Job Titles were represented by only one person in 2013? (e.g. Job Titles with only one occurence in 2013?) **"
   ]
  },
  {
   "cell_type": "code",
   "execution_count": 31,
   "metadata": {},
   "outputs": [],
   "source": [
    "sal_2013 = sal[sal['Year'] == 2013]"
   ]
  },
  {
   "cell_type": "code",
   "execution_count": 36,
   "metadata": {},
   "outputs": [
    {
     "name": "stdout",
     "output_type": "stream",
     "text": [
      "Job titles represented by only one person in 2013:\n",
      "Mayor\n",
      "Adm, SFGH Medical Center\n",
      "Controller\n",
      "Parking Hearing Examiner\n",
      "Court Asst., Superior Court\n",
      "Administrative Analyst II\n",
      "IS Operator-Journey\n",
      "Drug Court Coordinator\n",
      "Public Safety Comm Tech\n",
      "Orthopedic Technician 1\n",
      "Captain, (Fire Department)\n",
      "District Attorney\n",
      "Emergency Medical Svcs Chief\n",
      "Port Director\n",
      "PrDAInvest,SpecUnit (SFERS)\n",
      "Ex Asst to the Controller\n",
      "Animal Care Supervisor\n",
      "Training Technician\n",
      "Sr General Utility Mechanic\n",
      "Farmer\n",
      "Environmental Hlth Tech 2\n",
      "Performance Analyst I\n",
      "Chief Deputy Adlt Probation Of\n",
      "Signal and Systems Engineer\n",
      "Junior Clerk Typist\n",
      "Supply Room Attendant\n",
      "Special Assistant 14\n",
      "Senior Offset Machine Operator\n",
      "Assessor\n",
      "Industrial Engineer\n",
      "Mental Health Hearing Officer\n",
      "Electric Motor Repair Sprv 1\n",
      "Assistant Inspector\n",
      "Director, Info Tech Group\n",
      "Asphalt Plant Supervisor 1\n",
      "Assistant Inspector 2\n",
      "IS Trainer-Senior\n",
      "Real Estate Devt. Mgr, SFMTA\n",
      "Assistant Director, Probate\n",
      "Asst Chf, Bur Clm Invest&Admin\n",
      "Telecommunications Tech Supv\n",
      "Director, Fiscal Services\n",
      "Metalsmith\n",
      "Mayoral Staff VII\n",
      "Baker\n",
      "Media Programming Spec\n",
      "Legislation Clerk\n",
      "Media Production Specialist\n",
      "Shelter Officer Supervisor\n",
      "Assistant Industrial Hygienist\n",
      "Court Clerk\n",
      "Court Asst-Sr, Superior Court\n",
      "Bd/Comm Secretary 3\n",
      "Depty Sealer of Weights & Meas\n",
      "Assistant Sheriff\n",
      "Asst Dir of Clinical Svcs 1\n",
      "Undersheriff\n",
      "Media/Security Syst Supv\n",
      "Senior Morgue Attendant\n",
      "Airport Communications Officer\n",
      "Senior Book Repairer\n",
      "Field Svcs Asst Supv\n",
      "Senior Transit Traffic Checker\n",
      "Secretary, Health Commission\n",
      "Area Sprv Parks, Squares & Fac\n",
      "Feasibility Analyst, Port\n",
      "Painter Supervisor 2\n",
      "Ornamental Iron Wrk Sprv 1\n",
      "Treasurer\n",
      "Senior Food Service Supervisor\n",
      "Electroencephalograph Tech 1\n",
      "Principal Museum Preparator\n",
      "Senior Pharmacy Helper\n",
      "Chief Fire Alarm Dispatcher\n",
      "Chief Housing Inspector\n",
      "Power Plant Supervisor 1\n",
      "Secretary, Comm on the Environ\n",
      "Conservatorship/Case Mgt Sprv\n",
      "Trnst Power Line Wrk Sprv 2\n",
      "Chief Dep Adlt Prob Of (SFERS)\n",
      "Law Librarian\n",
      "Chf District Atty Investigator\n",
      "Forensic Toxicologist\n",
      "Orthopedic Technician 2\n",
      "Plumber Supervisor 2\n",
      "Senior Psychiatric Orderly\n",
      "Dir, Log Cabin Ranch (SFERS)\n",
      "Ex Dir, SE Com Fac Comm\n",
      "Employment & Training Spec 6\n",
      "Director, Juvenile Hall\n",
      "Crane Mechanic Supervisor\n",
      "Mayoral Staff X\n",
      "Assoc Musm Cnsrvt, AAM\n",
      "Court Interpreter Supervisor\n",
      "Sup Welfare Fraud Investigator\n",
      "Soft Floor Coverer Supvr I\n",
      "Asst Dir, Log Cabin Rnch\n",
      "Specialist in Aging 2\n",
      "Payroll Supervisor\n",
      "Vet Laboratory Technologist\n",
      "Chief Adult Probation Officer\n",
      "Dir Emp Relations Div\n",
      "Human Resources Director\n",
      "Court Executive Officer\n",
      "Communications Director\n",
      "Director, Probation Services\n",
      "Chief Telephone Operator\n",
      "Sr Medical Transcriber Typist\n",
      "Transit Paint Shop Sprv1\n",
      "Special Assistant 16\n",
      "Cement Finisher Supervisor 2\n",
      "Track Maint Supt, Muni Railway\n",
      "Librarian 2 - Asian Arts\n",
      "Sr Employee Asst Counselor\n",
      "Media Training Specialist\n",
      "Rent Board Supervisor\n",
      "Training Coordinator\n",
      "Supervising Parts Storekeeper\n",
      "Mech Shop & Equip Supt\n",
      "Traffic Sign Manager\n",
      "Crime Lab Mgr\n",
      "City Shops Asst Superintendent\n",
      "Statistician\n",
      "Window Cleaner Supervisor\n",
      "Graphics Supervisor\n",
      "Asst Superintendent Rec\n",
      "Sheet Metal Wrk Supervisor 2\n",
      "Special Assistant 21\n",
      "Acupuncturist\n",
      "Cfdntal Sctry to City Atty\n",
      "Secretary, Library Commission\n",
      "Mayoral Staff XII\n",
      "Pr Investigator, Tax Collector\n",
      "Emergency Services Coord I\n",
      "Senior Museum Preparator\n",
      "Ex Asst to Ex Dir, Retirement\n",
      "Auto Body & Fender Wrk Sprv 1\n",
      "Chief Electrical Inspector\n",
      "Airport Mechanical Maint Sprv\n",
      "Sr Light Rail Veh Equip Eng\n",
      "Wharfinger 1\n",
      "Water Meter Shop Supervisor 1\n",
      "Shelter Office Asst Supv\n",
      "Animal Care Asst Supv\n",
      "Claims Process Clerk\n",
      "Assistant Law Librarian\n",
      "Traf Signal Electrician Sup II\n",
      "Civil Case Settlmnt Specialist\n",
      "City Attorney\n",
      "Materials/Supplies Supervisor\n",
      "Sctry, Juv Probation Comm\n",
      "Sprv Adult Prob Ofc (SFERS)\n",
      "Managing Attorney\n",
      "Wire Rope Cable Maint Sprv\n",
      "Chief Nursery Specialist\n",
      "Employee Assistance Counselor\n",
      "Roofer Supervisor 1\n",
      "Shade and Drapery Worker\n",
      "Laboratory Technician I\n",
      "Senior Transcriber Typist\n",
      "Chief Plumbing Inspector\n",
      "Director, Human Resources\n",
      "Court Reporter Coordinator\n",
      "Disability Access Coordinator\n",
      "Director, Probate\n",
      "Asst Director, Juvenile Hall\n",
      "Attorney, Tax Collector\n",
      "Operating Room Nurse\n",
      "Board Scty, MTA\n",
      "Market Research Spec, Port\n",
      "Chf Victim/Witness Invstgtor\n",
      "Research Psychologist\n",
      "Special Assistant 15\n",
      "Senior Plan Checker\n",
      "Municipal Stadium Groundskpr\n",
      "Principal Real Property Ofc\n",
      "Public Defender\n",
      "Administrator, DPH\n",
      "Sheriff (SFERS)\n",
      "Glazier Supervisor 1\n",
      "Principal Recreation Sprv\n",
      "Traffic Signal Operator\n",
      "Administrative Analyst I\n",
      "Senior Data Entry Operator\n",
      "Assistant Power House Operator\n",
      "Sup Ct Admin Secretary\n",
      "IS Operator-Analyst\n",
      "Sctry, Human Svcs. Commission\n",
      "Mgr Museum Security Services\n",
      "Sr Opers Mgr\n",
      "Emergency Services Assistant\n",
      "Gen Mgr, Public Trnsp Dept\n",
      "Arborist Technician Supv II\n",
      "Animal Control Supervisor\n",
      "Chief of Police\n",
      "Head Photographer\n",
      "Dep Dir for Investments, Ret\n",
      "IS Technician Assistant\n",
      "Chief, Fire Department\n",
      "Braillist\n",
      "Victim & Witness Technician\n",
      "Senior Assessment Clerk\n"
     ]
    }
   ],
   "source": [
    "job_counts = sal_2013['JobTitle'].value_counts()\n",
    "jobs_with_one_occurrence = job_counts[job_counts == 1].index.tolist()\n",
    "print(\"Job titles represented by only one person in 2013:\")\n",
    "for job in jobs_with_one_occurrence:\n",
    "    print(job)"
   ]
  },
  {
   "cell_type": "markdown",
   "metadata": {},
   "source": [
    "** How many people have the word Chief in their job title? (This is pretty tricky) **"
   ]
  },
  {
   "cell_type": "code",
   "execution_count": 37,
   "metadata": {},
   "outputs": [],
   "source": [
    "chief_jobs = sal[sal['JobTitle'].str.contains('Chief', case=False, na=False)]"
   ]
  },
  {
   "cell_type": "code",
   "execution_count": 38,
   "metadata": {},
   "outputs": [],
   "source": [
    "chief_count = chief_jobs.shape[0]"
   ]
  },
  {
   "cell_type": "code",
   "execution_count": 39,
   "metadata": {},
   "outputs": [
    {
     "name": "stdout",
     "output_type": "stream",
     "text": [
      "Number of people with 'Chief' in their job title: 627\n"
     ]
    }
   ],
   "source": [
    "print(f\"Number of people with 'Chief' in their job title: {chief_count}\")"
   ]
  },
  {
   "cell_type": "markdown",
   "metadata": {},
   "source": [
    "** Bonus: Is there a correlation between length of the Job Title string and Salary? **"
   ]
  },
  {
   "cell_type": "code",
   "execution_count": 42,
   "metadata": {},
   "outputs": [],
   "source": [
    "sal['Job Title Length'] = sal['JobTitle'].str.len()\n"
   ]
  },
  {
   "cell_type": "code",
   "execution_count": 45,
   "metadata": {},
   "outputs": [
    {
     "name": "stdout",
     "output_type": "stream",
     "text": [
      "Correlation between job title length and salary: -0.015356226699097014\n"
     ]
    }
   ],
   "source": [
    "correlation = sal[['Job Title Length', 'TotalPay']].corr().iloc[0, 1]\n",
    "print(f\"Correlation between job title length and salary: {correlation}\")"
   ]
  },
  {
   "cell_type": "markdown",
   "metadata": {},
   "source": [
    "# Great Job!"
   ]
  }
 ],
 "metadata": {
  "kernelspec": {
   "display_name": "Python 3 (ipykernel)",
   "language": "python",
   "name": "python3"
  },
  "language_info": {
   "codemirror_mode": {
    "name": "ipython",
    "version": 3
   },
   "file_extension": ".py",
   "mimetype": "text/x-python",
   "name": "python",
   "nbconvert_exporter": "python",
   "pygments_lexer": "ipython3",
   "version": "3.12.5"
  }
 },
 "nbformat": 4,
 "nbformat_minor": 1
}
