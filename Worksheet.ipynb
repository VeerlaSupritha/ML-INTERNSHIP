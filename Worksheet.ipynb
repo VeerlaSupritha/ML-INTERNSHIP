{
 "cells": [
  {
   "cell_type": "markdown",
   "metadata": {},
   "source": [
    "Write a python function which should be capable of finding the factorial of any given number as an \n",
    "argument. "
   ]
  },
  {
   "cell_type": "code",
   "execution_count": 1,
   "metadata": {},
   "outputs": [
    {
     "name": "stdout",
     "output_type": "stream",
     "text": [
      "Factorial (Iterative) of 10 is: 3628800\n",
      "Factorial (Recursive) of 10 is: 3628800\n"
     ]
    }
   ],
   "source": [
    "def factorial_iterative(n):\n",
    "    if n < 0:\n",
    "        raise ValueError(\"Factorial is not defined for negative numbers\")\n",
    "    result = 1\n",
    "    for i in range(1, n + 1):\n",
    "        result *= i\n",
    "    return result\n",
    "\n",
    "def factorial_recursive(n):\n",
    "    if n < 0:\n",
    "        raise ValueError(\"Factorial is not defined for negative numbers\")\n",
    "    if n == 0 or n == 1:\n",
    "        return 1\n",
    "    return n * factorial_recursive(n - 1)\n",
    "\n",
    "def main():\n",
    "    try:\n",
    "        # Read input from the user\n",
    "        num = int(input(\"Enter a non-negative integer: \"))\n",
    "        \n",
    "        if num < 0:\n",
    "            print(\"Factorial is not defined for negative numbers.\")\n",
    "        else:\n",
    "            # Calculate factorial using either method\n",
    "            result_iterative = factorial_iterative(num)\n",
    "            result_recursive = factorial_recursive(num)\n",
    "            \n",
    "            print(f\"Factorial (Iterative) of {num} is: {result_iterative}\")\n",
    "            print(f\"Factorial (Recursive) of {num} is: {result_recursive}\")\n",
    "\n",
    "    except ValueError as e:\n",
    "        print(f\"Invalid input: {e}\")\n",
    "\n",
    "if __name__ == \"__main__\":\n",
    "    main()\n"
   ]
  },
  {
   "cell_type": "markdown",
   "metadata": {},
   "source": [
    " Luke Skywalker has family and friends. Help him remind them who is who. Given a string with a \n",
    "name, return the relation of that person to Luke. "
   ]
  },
  {
   "cell_type": "code",
   "execution_count": 16,
   "metadata": {},
   "outputs": [
    {
     "name": "stdout",
     "output_type": "stream",
     "text": [
      "Luke I am yourBrother-in-law\n"
     ]
    }
   ],
   "source": [
    "def get_relation(name):\n",
    "    # Define a dictionary with names and their relationships to Luke Skywalker\n",
    "    relations = {\n",
    "        \"Darth Vader\": \"Father\",\n",
    "        \"Leia Organa\": \"Sister\",\n",
    "        \"Han\": \"Brother-in-law\",\n",
    "        \"R2-D2\": \"droid\"\n",
    "    }\n",
    "    \n",
    "    # Retrieve the relation from the dictionary\n",
    "    return relations.get(name, \"Unknown\")\n",
    "\n",
    "def main():\n",
    "    # Take user input\n",
    "    name = input(\"Enter a name to find their relation to Luke Skywalker: \")\n",
    "    \n",
    "    # Get the relation and display it\n",
    "    relation = get_relation(name)\n",
    "    print(f\"Luke I am your {relation}\")\n",
    "\n",
    "if __name__ == \"__main__\":\n",
    "    main()\n"
   ]
  },
  {
   "cell_type": "markdown",
   "metadata": {},
   "source": [
    " Create  a function which takes a number as its argument and return the number of digits in it. Use \n",
    "of len function is not allowed. For example for 5 it should return 1, for 32 it should return 2 and 123 , \n",
    "3 should be returned and so on. "
   ]
  },
  {
   "cell_type": "code",
   "execution_count": 17,
   "metadata": {},
   "outputs": [
    {
     "name": "stdout",
     "output_type": "stream",
     "text": [
      "The number of digits in 10 is: 2\n"
     ]
    }
   ],
   "source": [
    "def count_digits(number):\n",
    "    number = abs(number)\n",
    "    if number == 0:\n",
    "        return 1\n",
    "    count = 0\n",
    "    while number > 0:\n",
    "        number //= 10\n",
    "        count += 1\n",
    "    return count\n",
    "\n",
    "def main():\n",
    "    try:\n",
    "        user_input = int(input(\"Enter a number to find out how many digits it has: \"))\n",
    "        num_digits = count_digits(user_input)\n",
    "        print(f\"The number of digits in {user_input} is: {num_digits}\")\n",
    "    except ValueError:\n",
    "        print(\"Please enter a valid integer.\")\n",
    "\n",
    "if __name__ == \"__main__\":\n",
    "    main()\n"
   ]
  },
  {
   "cell_type": "markdown",
   "metadata": {},
   "source": [
    "Write a function which takes a number as argument suppose 5 and gives results as multiplication \n",
    "of factorial of each positive number less than or equal to the number given. i.e !5*!4*!3*!2*!1 = \n",
    "34560. "
   ]
  },
  {
   "cell_type": "code",
   "execution_count": 18,
   "metadata": {},
   "outputs": [
    {
     "name": "stdout",
     "output_type": "stream",
     "text": [
      "The product of factorials of all positive integers up to 10 is: 6658606584104736522240000000\n"
     ]
    }
   ],
   "source": [
    "def factorial(n):\n",
    "    if n == 0 or n == 1:\n",
    "        return 1\n",
    "    result = 1\n",
    "    for i in range(2, n + 1):\n",
    "        result *= i\n",
    "    return result\n",
    "\n",
    "def multiply_factorials(number):\n",
    "    product = 1\n",
    "    for i in range(1, number + 1):\n",
    "        product *= factorial(i)\n",
    "    return product\n",
    "\n",
    "def main():\n",
    "    try:\n",
    "        user_input = int(input(\"Enter a number to find the product of factorials of all positive integers up to that number: \"))\n",
    "        if user_input < 0:\n",
    "            print(\"Please enter a non-negative integer.\")\n",
    "        else:\n",
    "            result = multiply_factorials(user_input)\n",
    "            print(f\"The product of factorials of all positive integers up to {user_input} is: {result}\")\n",
    "    except ValueError:\n",
    "        print(\"Please enter a valid integer.\")\n",
    "\n",
    "if __name__ == \"__main__\":\n",
    "    main()\n"
   ]
  },
  {
   "cell_type": "markdown",
   "metadata": {},
   "source": [
    "5. Write a function which takes any number of arguments from a user and return the result which \n",
    "should be output of a2 + b2+ c2+… if a , b ,c are numbers supplied ..i.e if 1,2,3 are supplied then result  \n",
    "returned should be 14. But user may supply any number of inputs so make the function to adapt to \n",
    "that. "
   ]
  },
  {
   "cell_type": "code",
   "execution_count": 19,
   "metadata": {},
   "outputs": [
    {
     "name": "stdout",
     "output_type": "stream",
     "text": [
      "The sum of squares is: 30\n"
     ]
    }
   ],
   "source": [
    "def sum_of_squares(*args):\n",
    "    total = 0\n",
    "    for number in args:\n",
    "        total += number ** 2\n",
    "    return total\n",
    "\n",
    "def main():\n",
    "    try:\n",
    "        user_input = input(\"Enter numbers separated by spaces: \")\n",
    "        numbers = list(map(int, user_input.split()))\n",
    "        result = sum_of_squares(*numbers)\n",
    "        print(f\"The sum of squares is: {result}\")\n",
    "    except ValueError:\n",
    "        print(\"Please enter valid integers separated by spaces.\")\n",
    "\n",
    "if __name__ == \"__main__\":\n",
    "    main()\n"
   ]
  },
  {
   "cell_type": "markdown",
   "metadata": {},
   "source": [
    "6.Write a function which accepts 3 arguments from the user.1 .number 1, 2. Number2 and 3. An \n",
    "operation. The operation supported should be +, -, *, and /. The function should return the result of \n",
    "given operation. For example arguments are 3,2,+ then result returned should be 5."
   ]
  },
  {
   "cell_type": "code",
   "execution_count": 20,
   "metadata": {},
   "outputs": [
    {
     "name": "stdout",
     "output_type": "stream",
     "text": [
      "The result is: 5.0\n"
     ]
    }
   ],
   "source": [
    "def perform_operation(num1, num2, operation):\n",
    "    if operation == '+':\n",
    "        return num1 + num2\n",
    "    elif operation == '-':\n",
    "        return num1 - num2\n",
    "    elif operation == '*':\n",
    "        return num1 * num2\n",
    "    elif operation == '/':\n",
    "        if num2 != 0:\n",
    "            return num1 / num2\n",
    "        else:\n",
    "            return \"Error: Division by zero\"\n",
    "    else:\n",
    "        return \"Error: Invalid operation\"\n",
    "\n",
    "def main():\n",
    "    try:\n",
    "        num1 = float(input(\"Enter the first number: \"))\n",
    "        num2 = float(input(\"Enter the second number: \"))\n",
    "        operation = input(\"Enter the operation (+, -, *, /): \").strip()\n",
    "        \n",
    "        result = perform_operation(num1, num2, operation)\n",
    "        print(f\"The result is: {result}\")\n",
    "    except ValueError:\n",
    "        print(\"Please enter valid numbers.\")\n",
    "\n",
    "if __name__ == \"__main__\":\n",
    "    main()\n"
   ]
  },
  {
   "cell_type": "markdown",
   "metadata": {},
   "source": [
    "7.  Write a function which takes an argument which should be a numeric +ve integer. Depending on \n",
    "the input supplied you have to print “I CAN”, “I WILL”. Suppose some one enters argument as 1 then \n",
    "only “I CAN” should be printed. But if some one enters 2 then first  “I CAN” should be printed then “I \n",
    "WILL”. And if someone enters 3 then following should be printed in corresponding order: “I CAN”, “I \n",
    "WILL”, “I CAN” and so on for any numbers entered."
   ]
  },
  {
   "cell_type": "code",
   "execution_count": 21,
   "metadata": {},
   "outputs": [
    {
     "name": "stdout",
     "output_type": "stream",
     "text": [
      "I CAN\n",
      "I WILL\n",
      "I CAN\n",
      "I WILL\n"
     ]
    }
   ],
   "source": [
    "def print_statements(n):\n",
    "    if n <= 0:\n",
    "        print(\"Please enter a positive integer.\")\n",
    "        return\n",
    "    \n",
    "    for i in range(1, n + 1):\n",
    "        if i % 2 == 1:\n",
    "            print(\"I CAN\")\n",
    "        else:\n",
    "            print(\"I WILL\")\n",
    "\n",
    "def main():\n",
    "    try:\n",
    "        user_input = int(input(\"Enter a positive integer: \"))\n",
    "        print_statements(user_input)\n",
    "    except ValueError:\n",
    "        print(\"Please enter a valid integer.\")\n",
    "\n",
    "if __name__ == \"__main__\":\n",
    "    main()\n"
   ]
  },
  {
   "cell_type": "markdown",
   "metadata": {},
   "source": [
    "8. We have been given a list of whole numbers which represents the color of each gloves,  determine \n",
    "how many pairs of gloves with matching colors there are. For example, there are 7 gloves with \n",
    "colors [1, 2, 1, 2, 1, 3, 2]. There is one pair of color 1 and one of color 2. There are three odd gloves \n",
    "left, one of each color. The number of pairs is 2. Create a function that returns an integer representing \n",
    "the number of matching pairs of gloves that are available."
   ]
  },
  {
   "cell_type": "code",
   "execution_count": 23,
   "metadata": {},
   "outputs": [
    {
     "name": "stdout",
     "output_type": "stream",
     "text": [
      "Number of pairs of gloves: 2\n"
     ]
    }
   ],
   "source": [
    "from collections import Counter\n",
    "\n",
    "def count_glove_pairs(glove_colors):\n",
    "    color_counts = Counter(glove_colors)\n",
    "    pairs = 0\n",
    "    for count in color_counts.values():\n",
    "        pairs += count // 2\n",
    "    return pairs\n",
    "\n",
    "def main():\n",
    "    try:\n",
    "        glove_colors = list(map(int, input(\"Enter the colors of gloves separated by spaces: \").split()))\n",
    "        num_pairs = count_glove_pairs(glove_colors)\n",
    "        print(f\"Number of pairs of gloves: {num_pairs}\")\n",
    "    except ValueError:\n",
    "        print(\"Please enter valid integers separated by spaces.\")\n",
    "\n",
    "if __name__ == \"__main__\":\n",
    "    main()\n"
   ]
  },
  {
   "cell_type": "markdown",
   "metadata": {},
   "source": [
    "9. Write a function that returns True if two arrays, when combined, form a consecutive sequence. A \n",
    "consecutive sequence is a sequence without any gaps in the integers, e.g. 1, 2, 3, 4, 5 is a \n",
    "consecutive sequence, but 1, 2, 4, 5 is not. Notes \n",
    "• The input lists will have unique values. \n",
    "• The input lists can be in any order. \n",
    "Examples \n",
    "consecutive_combo([7, 4, 5, 1], [2, 3, 6]) ➞ True \n",
    "consecutive_combo([1, 4, 6, 5], [2, 7, 8, 9]) ➞ False \n",
    "consecutive_combo([1, 4, 5, 6], [2, 3, 7, 8, 10]) ➞ False \n",
    "consecutive_combo([44, 46], [45]) ➞ True"
   ]
  },
  {
   "cell_type": "code",
   "execution_count": 25,
   "metadata": {},
   "outputs": [
    {
     "name": "stdout",
     "output_type": "stream",
     "text": [
      "The combined arrays form a consecutive sequence: True\n"
     ]
    }
   ],
   "source": [
    "def consecutive_combo(arr1, arr2):\n",
    "    combined = arr1 + arr2\n",
    "    combined.sort()\n",
    "    \n",
    "    for i in range(len(combined) - 1):\n",
    "        if combined[i] + 1 != combined[i + 1]:\n",
    "            return False\n",
    "    \n",
    "    return True\n",
    "\n",
    "def main():\n",
    "    try:\n",
    "        # Example arrays for testing\n",
    "        arr1 = list(map(int, input(\"Enter the first array separated by spaces: \").split()))\n",
    "        arr2 = list(map(int, input(\"Enter the second array separated by spaces: \").split()))\n",
    "        \n",
    "        result = consecutive_combo(arr1, arr2)\n",
    "        print(f\"The combined arrays form a consecutive sequence: {result}\")\n",
    "    except ValueError:\n",
    "        print(\"Please enter valid integers separated by spaces.\")\n",
    "\n",
    "if __name__ == \"__main__\":\n",
    "    main()\n"
   ]
  },
  {
   "cell_type": "markdown",
   "metadata": {},
   "source": [
    "10. You work for a manufacturer, and have been asked to calculate the total profit made on the sales \n",
    "of a product. You are given a dictionary containing the cost price per unit (in dollars), sell price per \n",
    "unit (in dollars), and the starting inventory. Return the total profit made, rounded to the nearest \n",
    "dollar. \n",
    "Examples \n",
    "profit({ \n",
    "\"cost_price\": 32.67, \n",
    "\"sell_price\": 45.00, \n",
    "\"inventory\": 1200 \n",
    "}) ➞ 14796"
   ]
  },
  {
   "cell_type": "code",
   "execution_count": 27,
   "metadata": {},
   "outputs": [
    {
     "name": "stdout",
     "output_type": "stream",
     "text": [
      "The total profit made is: $1\n"
     ]
    }
   ],
   "source": [
    "def profit(cost_price, sell_price, inventory):\n",
    "    profit_per_unit = sell_price - cost_price\n",
    "    total_profit = profit_per_unit * inventory\n",
    "    return round(total_profit)\n",
    "\n",
    "def main():\n",
    "    try:\n",
    "        cost_price = float(input(\"Enter the cost price per unit (in dollars): \"))\n",
    "        sell_price = float(input(\"Enter the sell price per unit (in dollars): \"))\n",
    "        inventory = int(input(\"Enter the starting inventory: \"))\n",
    "        \n",
    "        total_profit = profit(cost_price, sell_price, inventory)\n",
    "        print(f\"The total profit made is: ${total_profit}\")\n",
    "    \n",
    "    except ValueError:\n",
    "        print(\"Please enter valid numbers for cost price, sell price, and inventory.\")\n",
    "\n",
    "if __name__ == \"__main__\":\n",
    "    main()\n"
   ]
  }
 ],
 "metadata": {
  "kernelspec": {
   "display_name": "Python 3",
   "language": "python",
   "name": "python3"
  },
  "language_info": {
   "codemirror_mode": {
    "name": "ipython",
    "version": 3
   },
   "file_extension": ".py",
   "mimetype": "text/x-python",
   "name": "python",
   "nbconvert_exporter": "python",
   "pygments_lexer": "ipython3",
   "version": "3.12.5"
  }
 },
 "nbformat": 4,
 "nbformat_minor": 2
}
